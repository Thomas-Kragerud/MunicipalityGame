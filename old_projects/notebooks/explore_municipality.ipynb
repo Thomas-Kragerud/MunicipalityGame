{
 "cells": [
  {
   "cell_type": "code",
   "execution_count": 2,
   "outputs": [],
   "source": [
    "import geopandas as gpd\n",
    "import matplotlib.pyplot as plt\n",
    "import pandas as pd\n",
    "import random\n"
   ],
   "metadata": {
    "collapsed": false,
    "ExecuteTime": {
     "end_time": "2023-07-24T12:47:32.142216Z",
     "start_time": "2023-07-24T12:47:32.136959Z"
    }
   }
  },
  {
   "cell_type": "code",
   "execution_count": 3,
   "outputs": [],
   "source": [
    "gdf = gpd.read_file('/Users/thomas/PycharmProjects/MunicipalityGame/fylker-og-kommuner-2020-master/Kommuner-small.json')\n",
    "csv_file = \"Scraping/kommuner.csv\"\n",
    "names_df = pd.read_csv(csv_file)"
   ],
   "metadata": {
    "collapsed": false,
    "ExecuteTime": {
     "end_time": "2023-07-24T12:47:33.270315Z",
     "start_time": "2023-07-24T12:47:32.803033Z"
    }
   }
  },
  {
   "cell_type": "code",
   "execution_count": 4,
   "outputs": [
    {
     "data": {
      "text/plain": "     Number[1] (ISO 3166-2:NO)             Name   Adm. center  \\\n0                          301             Oslo          Oslo   \n1                         1101        Eigersund      Egersund   \n2                         1103        Stavanger     Stavanger   \n3                         1106        Haugesund     Haugesund   \n4                         1108          Sandnes       Sandnes   \n..                         ...              ...           ...   \n351                       5440         Berlevåg      Berlevåg   \n352                       5441      Tana Deatnu      Tana bru   \n353                       5442  Nesseby Unjárga  Varangerbotn   \n354                       5443        Båtsfjord     Båtsfjord   \n355                       5444     Sør-Varanger      Kirkenes   \n\n                County  \\\n0                 Oslo   \n1             Rogaland   \n2             Rogaland   \n3             Rogaland   \n4             Rogaland   \n..                 ...   \n351  Troms og Finnmark   \n352  Troms og Finnmark   \n353  Troms og Finnmark   \n354  Troms og Finnmark   \n355  Troms og Finnmark   \n\n    Population (2017)[2](2021 for Oslo, Viken, Rogaland and Vestland) [1]  \\\n0                                               702543                      \n1                                                14860                      \n2                                               144515                      \n3                                                37444                      \n4                                                81305                      \n..                                                 ...                      \n351                                                991                      \n352                                               2911                      \n353                                                951                      \n354                                               2267                      \n355                                              10199                      \n\n     Area (km2)[3]  County Map  Arms      Language form[4]  \\\n0           454.03         NaN   NaN               Neutral   \n1           431.66         NaN   NaN                Bokmål   \n2           262.52         NaN   NaN                Bokmål   \n3            72.72         NaN   NaN                Bokmål   \n4           304.46         NaN   NaN               Neutral   \n..             ...         ...   ...                   ...   \n351        1121.78         NaN   NaN                Bokmål   \n352        4051.35         NaN   NaN  Bokmål Northern Sami   \n353        1434.72         NaN   NaN  Bokmål Northern Sami   \n354        1434.72         NaN   NaN               Neutral   \n355        3971.58         NaN   NaN                Bokmål   \n\n               Mayor[5] Party  \n0       Marianne Borgen    SV  \n1       Leif Erik Egaas     H  \n2    Kari Nessa Nordtun    Ap  \n3       Petter Steen jr     H  \n4         Stanley Wirak    Ap  \n..                  ...   ...  \n351       Rolf Laupstad    Ap  \n352      Helga Pedersen    Ap  \n353     Knut Inge Store    Ap  \n354       Ronald Wærnes    Sp  \n355      Rune Rafaelsen    Ap  \n\n[356 rows x 11 columns]",
      "text/html": "<div>\n<style scoped>\n    .dataframe tbody tr th:only-of-type {\n        vertical-align: middle;\n    }\n\n    .dataframe tbody tr th {\n        vertical-align: top;\n    }\n\n    .dataframe thead th {\n        text-align: right;\n    }\n</style>\n<table border=\"1\" class=\"dataframe\">\n  <thead>\n    <tr style=\"text-align: right;\">\n      <th></th>\n      <th>Number[1] (ISO 3166-2:NO)</th>\n      <th>Name</th>\n      <th>Adm. center</th>\n      <th>County</th>\n      <th>Population (2017)[2](2021 for Oslo, Viken, Rogaland and Vestland) [1]</th>\n      <th>Area (km2)[3]</th>\n      <th>County Map</th>\n      <th>Arms</th>\n      <th>Language form[4]</th>\n      <th>Mayor[5]</th>\n      <th>Party</th>\n    </tr>\n  </thead>\n  <tbody>\n    <tr>\n      <th>0</th>\n      <td>301</td>\n      <td>Oslo</td>\n      <td>Oslo</td>\n      <td>Oslo</td>\n      <td>702543</td>\n      <td>454.03</td>\n      <td>NaN</td>\n      <td>NaN</td>\n      <td>Neutral</td>\n      <td>Marianne Borgen</td>\n      <td>SV</td>\n    </tr>\n    <tr>\n      <th>1</th>\n      <td>1101</td>\n      <td>Eigersund</td>\n      <td>Egersund</td>\n      <td>Rogaland</td>\n      <td>14860</td>\n      <td>431.66</td>\n      <td>NaN</td>\n      <td>NaN</td>\n      <td>Bokmål</td>\n      <td>Leif Erik Egaas</td>\n      <td>H</td>\n    </tr>\n    <tr>\n      <th>2</th>\n      <td>1103</td>\n      <td>Stavanger</td>\n      <td>Stavanger</td>\n      <td>Rogaland</td>\n      <td>144515</td>\n      <td>262.52</td>\n      <td>NaN</td>\n      <td>NaN</td>\n      <td>Bokmål</td>\n      <td>Kari Nessa Nordtun</td>\n      <td>Ap</td>\n    </tr>\n    <tr>\n      <th>3</th>\n      <td>1106</td>\n      <td>Haugesund</td>\n      <td>Haugesund</td>\n      <td>Rogaland</td>\n      <td>37444</td>\n      <td>72.72</td>\n      <td>NaN</td>\n      <td>NaN</td>\n      <td>Bokmål</td>\n      <td>Petter Steen jr</td>\n      <td>H</td>\n    </tr>\n    <tr>\n      <th>4</th>\n      <td>1108</td>\n      <td>Sandnes</td>\n      <td>Sandnes</td>\n      <td>Rogaland</td>\n      <td>81305</td>\n      <td>304.46</td>\n      <td>NaN</td>\n      <td>NaN</td>\n      <td>Neutral</td>\n      <td>Stanley Wirak</td>\n      <td>Ap</td>\n    </tr>\n    <tr>\n      <th>...</th>\n      <td>...</td>\n      <td>...</td>\n      <td>...</td>\n      <td>...</td>\n      <td>...</td>\n      <td>...</td>\n      <td>...</td>\n      <td>...</td>\n      <td>...</td>\n      <td>...</td>\n      <td>...</td>\n    </tr>\n    <tr>\n      <th>351</th>\n      <td>5440</td>\n      <td>Berlevåg</td>\n      <td>Berlevåg</td>\n      <td>Troms og Finnmark</td>\n      <td>991</td>\n      <td>1121.78</td>\n      <td>NaN</td>\n      <td>NaN</td>\n      <td>Bokmål</td>\n      <td>Rolf Laupstad</td>\n      <td>Ap</td>\n    </tr>\n    <tr>\n      <th>352</th>\n      <td>5441</td>\n      <td>Tana Deatnu</td>\n      <td>Tana bru</td>\n      <td>Troms og Finnmark</td>\n      <td>2911</td>\n      <td>4051.35</td>\n      <td>NaN</td>\n      <td>NaN</td>\n      <td>Bokmål Northern Sami</td>\n      <td>Helga Pedersen</td>\n      <td>Ap</td>\n    </tr>\n    <tr>\n      <th>353</th>\n      <td>5442</td>\n      <td>Nesseby Unjárga</td>\n      <td>Varangerbotn</td>\n      <td>Troms og Finnmark</td>\n      <td>951</td>\n      <td>1434.72</td>\n      <td>NaN</td>\n      <td>NaN</td>\n      <td>Bokmål Northern Sami</td>\n      <td>Knut Inge Store</td>\n      <td>Ap</td>\n    </tr>\n    <tr>\n      <th>354</th>\n      <td>5443</td>\n      <td>Båtsfjord</td>\n      <td>Båtsfjord</td>\n      <td>Troms og Finnmark</td>\n      <td>2267</td>\n      <td>1434.72</td>\n      <td>NaN</td>\n      <td>NaN</td>\n      <td>Neutral</td>\n      <td>Ronald Wærnes</td>\n      <td>Sp</td>\n    </tr>\n    <tr>\n      <th>355</th>\n      <td>5444</td>\n      <td>Sør-Varanger</td>\n      <td>Kirkenes</td>\n      <td>Troms og Finnmark</td>\n      <td>10199</td>\n      <td>3971.58</td>\n      <td>NaN</td>\n      <td>NaN</td>\n      <td>Bokmål</td>\n      <td>Rune Rafaelsen</td>\n      <td>Ap</td>\n    </tr>\n  </tbody>\n</table>\n<p>356 rows × 11 columns</p>\n</div>"
     },
     "execution_count": 4,
     "metadata": {},
     "output_type": "execute_result"
    }
   ],
   "source": [
    "names_df"
   ],
   "metadata": {
    "collapsed": false,
    "ExecuteTime": {
     "end_time": "2023-07-24T12:47:33.806718Z",
     "start_time": "2023-07-24T12:47:33.757552Z"
    }
   }
  },
  {
   "cell_type": "code",
   "execution_count": 6,
   "outputs": [],
   "source": [
    "gdf = gpd.read_file('/Users/thomas/PycharmProjects/MunicipalityGame/fylker-og-kommuner-2020-master/Kommuner-small.json')"
   ],
   "metadata": {
    "collapsed": false,
    "ExecuteTime": {
     "end_time": "2023-07-24T12:47:51.457300Z",
     "start_time": "2023-07-24T12:47:51.322455Z"
    }
   }
  },
  {
   "cell_type": "code",
   "execution_count": 7,
   "outputs": [
    {
     "data": {
      "text/plain": "     kommunenummer            navn  \\\n0             5020            Osen   \n1             5022         Rennebu   \n2             5021          Oppdal   \n3             5028          Melhus   \n4             5027  Midtre Gauldal   \n..             ...             ...   \n349           5045           Grong   \n350           1103       Stavanger   \n351           1106       Haugesund   \n352           5042          Lierne   \n353           5041           Snåsa   \n\n                                              geometry  \n0    MULTIPOLYGON (((10.40589 64.26305, 10.40583 64...  \n1    MULTIPOLYGON (((9.42157 62.81605, 9.46302 62.8...  \n2    MULTIPOLYGON (((8.91996 62.71177, 8.98641 62.7...  \n3    MULTIPOLYGON (((10.20875 63.32283, 10.23849 63...  \n4    MULTIPOLYGON (((9.98792 62.96481, 10.00966 62....  \n..                                                 ...  \n349  MULTIPOLYGON (((12.22798 64.52775, 12.23378 64...  \n350  MULTIPOLYGON (((5.68196 58.93313, 5.64526 58.9...  \n351  MULTIPOLYGON (((5.29819 59.38376, 5.23815 59.4...  \n352  MULTIPOLYGON (((13.93127 64.82212, 13.70547 64...  \n353  MULTIPOLYGON (((13.21111 64.09537, 13.21111 64...  \n\n[354 rows x 3 columns]",
      "text/html": "<div>\n<style scoped>\n    .dataframe tbody tr th:only-of-type {\n        vertical-align: middle;\n    }\n\n    .dataframe tbody tr th {\n        vertical-align: top;\n    }\n\n    .dataframe thead th {\n        text-align: right;\n    }\n</style>\n<table border=\"1\" class=\"dataframe\">\n  <thead>\n    <tr style=\"text-align: right;\">\n      <th></th>\n      <th>kommunenummer</th>\n      <th>navn</th>\n      <th>geometry</th>\n    </tr>\n  </thead>\n  <tbody>\n    <tr>\n      <th>0</th>\n      <td>5020</td>\n      <td>Osen</td>\n      <td>MULTIPOLYGON (((10.40589 64.26305, 10.40583 64...</td>\n    </tr>\n    <tr>\n      <th>1</th>\n      <td>5022</td>\n      <td>Rennebu</td>\n      <td>MULTIPOLYGON (((9.42157 62.81605, 9.46302 62.8...</td>\n    </tr>\n    <tr>\n      <th>2</th>\n      <td>5021</td>\n      <td>Oppdal</td>\n      <td>MULTIPOLYGON (((8.91996 62.71177, 8.98641 62.7...</td>\n    </tr>\n    <tr>\n      <th>3</th>\n      <td>5028</td>\n      <td>Melhus</td>\n      <td>MULTIPOLYGON (((10.20875 63.32283, 10.23849 63...</td>\n    </tr>\n    <tr>\n      <th>4</th>\n      <td>5027</td>\n      <td>Midtre Gauldal</td>\n      <td>MULTIPOLYGON (((9.98792 62.96481, 10.00966 62....</td>\n    </tr>\n    <tr>\n      <th>...</th>\n      <td>...</td>\n      <td>...</td>\n      <td>...</td>\n    </tr>\n    <tr>\n      <th>349</th>\n      <td>5045</td>\n      <td>Grong</td>\n      <td>MULTIPOLYGON (((12.22798 64.52775, 12.23378 64...</td>\n    </tr>\n    <tr>\n      <th>350</th>\n      <td>1103</td>\n      <td>Stavanger</td>\n      <td>MULTIPOLYGON (((5.68196 58.93313, 5.64526 58.9...</td>\n    </tr>\n    <tr>\n      <th>351</th>\n      <td>1106</td>\n      <td>Haugesund</td>\n      <td>MULTIPOLYGON (((5.29819 59.38376, 5.23815 59.4...</td>\n    </tr>\n    <tr>\n      <th>352</th>\n      <td>5042</td>\n      <td>Lierne</td>\n      <td>MULTIPOLYGON (((13.93127 64.82212, 13.70547 64...</td>\n    </tr>\n    <tr>\n      <th>353</th>\n      <td>5041</td>\n      <td>Snåsa</td>\n      <td>MULTIPOLYGON (((13.21111 64.09537, 13.21111 64...</td>\n    </tr>\n  </tbody>\n</table>\n<p>354 rows × 3 columns</p>\n</div>"
     },
     "execution_count": 7,
     "metadata": {},
     "output_type": "execute_result"
    }
   ],
   "source": [
    "gdf"
   ],
   "metadata": {
    "collapsed": false,
    "ExecuteTime": {
     "end_time": "2023-07-24T12:47:52.708901Z",
     "start_time": "2023-07-24T12:47:52.696893Z"
    }
   }
  },
  {
   "cell_type": "code",
   "execution_count": null,
   "outputs": [],
   "source": [],
   "metadata": {
    "collapsed": false
   }
  }
 ],
 "metadata": {
  "kernelspec": {
   "display_name": "Python 3",
   "language": "python",
   "name": "python3"
  },
  "language_info": {
   "codemirror_mode": {
    "name": "ipython",
    "version": 2
   },
   "file_extension": ".py",
   "mimetype": "text/x-python",
   "name": "python",
   "nbconvert_exporter": "python",
   "pygments_lexer": "ipython2",
   "version": "2.7.6"
  }
 },
 "nbformat": 4,
 "nbformat_minor": 0
}
